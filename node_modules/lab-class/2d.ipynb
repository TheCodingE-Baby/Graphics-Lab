{
 "cells": [
  {
   "cell_type": "code",
   "execution_count": null,
   "id": "ed8b29f0",
   "metadata": {},
   "outputs": [],
   "source": [
    "%pip install matplotlib ipywidgets"
   ]
  },
  {
   "cell_type": "code",
   "execution_count": 1,
   "id": "527acb29",
   "metadata": {},
   "outputs": [
    {
     "ename": "ModuleNotFoundError",
     "evalue": "No module named 'numpy'",
     "output_type": "error",
     "traceback": [
      "\u001b[31m---------------------------------------------------------------------------\u001b[39m",
      "\u001b[31mModuleNotFoundError\u001b[39m                       Traceback (most recent call last)",
      "\u001b[36mCell\u001b[39m\u001b[36m \u001b[39m\u001b[32mIn[1]\u001b[39m\u001b[32m, line 1\u001b[39m\n\u001b[32m----> \u001b[39m\u001b[32m1\u001b[39m \u001b[38;5;28;01mimport\u001b[39;00m\u001b[38;5;250m \u001b[39m\u001b[34;01mnumpy\u001b[39;00m\u001b[38;5;250m \u001b[39m\u001b[38;5;28;01mas\u001b[39;00m\u001b[38;5;250m \u001b[39m\u001b[34;01mnp\u001b[39;00m\n\u001b[32m      2\u001b[39m \u001b[38;5;28;01mimport\u001b[39;00m\u001b[38;5;250m \u001b[39m\u001b[34;01mmatplotlib\u001b[39;00m\u001b[34;01m.\u001b[39;00m\u001b[34;01mpyplot\u001b[39;00m\u001b[38;5;250m \u001b[39m\u001b[38;5;28;01mas\u001b[39;00m\u001b[38;5;250m \u001b[39m\u001b[34;01mplt\u001b[39;00m\n\u001b[32m      3\u001b[39m \u001b[38;5;28;01mfrom\u001b[39;00m\u001b[38;5;250m \u001b[39m\u001b[34;01mipywidgets\u001b[39;00m\u001b[38;5;250m \u001b[39m\u001b[38;5;28;01mimport\u001b[39;00m interact, FloatSlider, fixed\n",
      "\u001b[31mModuleNotFoundError\u001b[39m: No module named 'numpy'"
     ]
    }
   ],
   "source": [
    "import numpy as np\n",
    "import matplotlib.pyplot as plt\n",
    "from ipywidgets import interact, FloatSlider, fixed\n",
    "import ipywidgets as widgets"
   ]
  },
  {
   "cell_type": "code",
   "execution_count": null,
   "id": "d080bf09",
   "metadata": {},
   "outputs": [],
   "source": []
  },
  {
   "cell_type": "code",
   "execution_count": null,
   "id": "309f6620",
   "metadata": {},
   "outputs": [],
   "source": [
    "\n",
    "# Original 2D square\n",
    "square = np.array([\n",
    "    [0, 0, 1],\n",
    "    [1, 0, 1],\n",
    "    [1, 1, 1],\n",
    "    [0, 1, 1],\n",
    "    [0, 0, 1]  # close the square\n",
    "]).T  # shape (3, N)\n"
   ]
  },
  {
   "cell_type": "code",
   "execution_count": null,
   "id": "3e45e936",
   "metadata": {},
   "outputs": [],
   "source": [
    "\n",
    "def apply_transform(matrix, shape):\n",
    "    return matrix @ shape\n",
    "\n",
    "def plot_transformation(transformed, title, ax):\n",
    "    ax.clear()\n",
    "    ax.plot(square[0], square[1], 'b--', label='Original')\n",
    "    ax.plot(transformed[0], transformed[1], 'r-', label='Transformed')\n",
    "    ax.set_aspect('equal')\n",
    "    ax.set_title(title)\n",
    "    ax.legend()\n",
    "    ax.grid(True)\n",
    "    ax.set_xlim(-3, 3)\n",
    "    ax.set_ylim(-3, 3)\n"
   ]
  },
  {
   "cell_type": "code",
   "execution_count": null,
   "id": "1b704788",
   "metadata": {},
   "outputs": [],
   "source": [
    "\n",
    "# === SCALE ===\n",
    "def scale_plot(sx=1.0, sy=1.0):\n",
    "    S = np.array([\n",
    "        [sx, 0, 0],\n",
    "        [0, sy, 0],\n",
    "        [0, 0, 1]\n",
    "    ])\n",
    "    T = apply_transform(S, square)\n",
    "    fig, ax = plt.subplots()\n",
    "    plot_transformation(T, f\"Scaling (sx={sx}, sy={sy})\", ax)\n",
    "    plt.show()\n",
    "\n",
    "interact(scale_plot, sx=FloatSlider(value=1, min=-2, max=2, step=0.1), sy=FloatSlider(value=1, min=-2, max=2, step=0.1))\n"
   ]
  },
  {
   "cell_type": "code",
   "execution_count": null,
   "id": "ce95abd1",
   "metadata": {},
   "outputs": [],
   "source": [
    "\n",
    "# === SHEAR ===\n",
    "def shear_plot(shx=0.0, shy=0.0):\n",
    "    Sh = np.array([\n",
    "        [1, shx, 0],\n",
    "        [shy, 1, 0],\n",
    "        [0,  0, 1]\n",
    "    ])\n",
    "    T = apply_transform(Sh, square)\n",
    "    fig, ax = plt.subplots()\n",
    "    plot_transformation(T, f\"Shear (shx={shx}, shy={shy})\", ax)\n",
    "    plt.show()\n",
    "\n",
    "interact(shear_plot, shx=FloatSlider(value=0, min=-2, max=2, step=0.1), shy=FloatSlider(value=0, min=-2, max=2, step=0.1))\n"
   ]
  },
  {
   "cell_type": "code",
   "execution_count": null,
   "id": "71f4a1b7",
   "metadata": {},
   "outputs": [],
   "source": [
    "\n",
    "# === ROTATION ===\n",
    "def rotate_plot(angle=0.0):\n",
    "    theta = np.radians(angle)\n",
    "    R = np.array([\n",
    "        [np.cos(theta), -np.sin(theta), 0],\n",
    "        [np.sin(theta),  np.cos(theta), 0],\n",
    "        [0, 0, 1]\n",
    "    ])\n",
    "    T = apply_transform(R, square)\n",
    "    fig, ax = plt.subplots()\n",
    "    plot_transformation(T, f\"Rotation (angle={angle}°)\", ax)\n",
    "    plt.show()\n",
    "\n",
    "interact(rotate_plot, angle=FloatSlider(value=0, min=-180, max=180, step=5))\n"
   ]
  },
  {
   "cell_type": "code",
   "execution_count": null,
   "id": "7fa5e43d",
   "metadata": {},
   "outputs": [],
   "source": [
    "\n",
    "# === REFLECTION ===\n",
    "def reflect_plot(reflect_x=False, reflect_y=False):\n",
    "    rx = -1 if reflect_x else 1\n",
    "    ry = -1 if reflect_y else 1\n",
    "    Rf = np.array([\n",
    "        [rx, 0, 0],\n",
    "        [0, ry, 0],\n",
    "        [0,  0, 1]\n",
    "    ])\n",
    "    T = apply_transform(Rf, square)\n",
    "    fig, ax = plt.subplots()\n",
    "    plot_transformation(T, f\"Reflection (x={reflect_x}, y={reflect_y})\", ax)\n",
    "    plt.show()\n",
    "\n",
    "interact(reflect_plot,\n",
    "        reflect_x=widgets.Checkbox(value=False, description=\"Reflect X\"),\n",
    "        reflect_y=widgets.Checkbox(value=False, description=\"Reflect Y\"))\n"
   ]
  },
  {
   "cell_type": "code",
   "execution_count": null,
   "id": "091ff302",
   "metadata": {},
   "outputs": [],
   "source": []
  }
 ],
 "metadata": {
  "kernelspec": {
   "display_name": "Python 3",
   "language": "python",
   "name": "python3"
  },
  "language_info": {
   "codemirror_mode": {
    "name": "ipython",
    "version": 3
   },
   "file_extension": ".py",
   "mimetype": "text/x-python",
   "name": "python",
   "nbconvert_exporter": "python",
   "pygments_lexer": "ipython3",
   "version": "3.12.10"
  }
 },
 "nbformat": 4,
 "nbformat_minor": 5
}
